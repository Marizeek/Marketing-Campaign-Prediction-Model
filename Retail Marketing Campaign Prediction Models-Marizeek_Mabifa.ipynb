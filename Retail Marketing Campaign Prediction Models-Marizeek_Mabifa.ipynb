{
  "cells": [
    {
      "cell_type": "code",
      "execution_count": null,
      "metadata": {
        "colab": {
          "base_uri": "https://localhost:8080/",
          "height": 652
        },
        "id": "_yFbgShUmsGj",
        "outputId": "c124c46f-797c-4a3d-9cbc-7c2b6e91c388"
      },
      "outputs": [
        {
          "output_type": "execute_result",
          "data": {
            "text/plain": [
              "   CUST_ID CUST_GENDER  AGE CUST_MARITAL_STATUS              COUNTRY_NAME  \\\n",
              "0   101501           F   41              NeverM  United States of America   \n",
              "1   101502           M   27              NeverM  United States of America   \n",
              "2   101503           F   20              NeverM  United States of America   \n",
              "3   101504           M   45             Married  United States of America   \n",
              "4   101505           M   34              NeverM  United States of America   \n",
              "\n",
              "      CUST_INCOME_LEVEL EDUCATION OCCUPATION HOUSEHOLD_SIZE  YRS_RESIDENCE  \\\n",
              "0  J: 190,000 - 249,999   Masters      Prof.              2              4   \n",
              "1  I: 170,000 - 189,999     Bach.      Sales              2              3   \n",
              "2  H: 150,000 - 169,999   HS-grad    Cleric.              2              2   \n",
              "3    B: 30,000 - 49,999     Bach.      Exec.              3              5   \n",
              "4  K: 250,000 - 299,999   Masters      Sales             9+              5   \n",
              "\n",
              "   AFFINITY_CARD  BULK_PACK_DISKETTES  FLAT_PANEL_MONITOR  \\\n",
              "0              0                    1                   1   \n",
              "1              0                    1                   1   \n",
              "2              0                    1                   0   \n",
              "3              1                    0                   0   \n",
              "4              1                    1                   1   \n",
              "\n",
              "   HOME_THEATER_PACKAGE  BOOKKEEPING_APPLICATION  PRINTER_SUPPLIES  \\\n",
              "0                     1                        1                 1   \n",
              "1                     0                        1                 1   \n",
              "2                     0                        1                 1   \n",
              "3                     1                        1                 1   \n",
              "4                     0                        1                 1   \n",
              "\n",
              "   Y_BOX_GAMES  OS_DOC_SET_KANJI  \\\n",
              "0            0                 0   \n",
              "1            1                 0   \n",
              "2            1                 0   \n",
              "3            0                 0   \n",
              "4            0                 0   \n",
              "\n",
              "                                            COMMENTS  \n",
              "0  Shopping at your store is a hassle. I rarely s...  \n",
              "1  Affinity card is great. I think it is a hassle...  \n",
              "2  I purchased a new computer recently, but the m...  \n",
              "3  Affinity card is great. I think it is a hassle...  \n",
              "4  Why didn't you start a program like this befor...  "
            ],
            "text/html": [
              "\n",
              "  <div id=\"df-9391f516-09ba-4e87-b2ee-73cde5c8e699\">\n",
              "    <div class=\"colab-df-container\">\n",
              "      <div>\n",
              "<style scoped>\n",
              "    .dataframe tbody tr th:only-of-type {\n",
              "        vertical-align: middle;\n",
              "    }\n",
              "\n",
              "    .dataframe tbody tr th {\n",
              "        vertical-align: top;\n",
              "    }\n",
              "\n",
              "    .dataframe thead th {\n",
              "        text-align: right;\n",
              "    }\n",
              "</style>\n",
              "<table border=\"1\" class=\"dataframe\">\n",
              "  <thead>\n",
              "    <tr style=\"text-align: right;\">\n",
              "      <th></th>\n",
              "      <th>CUST_ID</th>\n",
              "      <th>CUST_GENDER</th>\n",
              "      <th>AGE</th>\n",
              "      <th>CUST_MARITAL_STATUS</th>\n",
              "      <th>COUNTRY_NAME</th>\n",
              "      <th>CUST_INCOME_LEVEL</th>\n",
              "      <th>EDUCATION</th>\n",
              "      <th>OCCUPATION</th>\n",
              "      <th>HOUSEHOLD_SIZE</th>\n",
              "      <th>YRS_RESIDENCE</th>\n",
              "      <th>AFFINITY_CARD</th>\n",
              "      <th>BULK_PACK_DISKETTES</th>\n",
              "      <th>FLAT_PANEL_MONITOR</th>\n",
              "      <th>HOME_THEATER_PACKAGE</th>\n",
              "      <th>BOOKKEEPING_APPLICATION</th>\n",
              "      <th>PRINTER_SUPPLIES</th>\n",
              "      <th>Y_BOX_GAMES</th>\n",
              "      <th>OS_DOC_SET_KANJI</th>\n",
              "      <th>COMMENTS</th>\n",
              "    </tr>\n",
              "  </thead>\n",
              "  <tbody>\n",
              "    <tr>\n",
              "      <th>0</th>\n",
              "      <td>101501</td>\n",
              "      <td>F</td>\n",
              "      <td>41</td>\n",
              "      <td>NeverM</td>\n",
              "      <td>United States of America</td>\n",
              "      <td>J: 190,000 - 249,999</td>\n",
              "      <td>Masters</td>\n",
              "      <td>Prof.</td>\n",
              "      <td>2</td>\n",
              "      <td>4</td>\n",
              "      <td>0</td>\n",
              "      <td>1</td>\n",
              "      <td>1</td>\n",
              "      <td>1</td>\n",
              "      <td>1</td>\n",
              "      <td>1</td>\n",
              "      <td>0</td>\n",
              "      <td>0</td>\n",
              "      <td>Shopping at your store is a hassle. I rarely s...</td>\n",
              "    </tr>\n",
              "    <tr>\n",
              "      <th>1</th>\n",
              "      <td>101502</td>\n",
              "      <td>M</td>\n",
              "      <td>27</td>\n",
              "      <td>NeverM</td>\n",
              "      <td>United States of America</td>\n",
              "      <td>I: 170,000 - 189,999</td>\n",
              "      <td>Bach.</td>\n",
              "      <td>Sales</td>\n",
              "      <td>2</td>\n",
              "      <td>3</td>\n",
              "      <td>0</td>\n",
              "      <td>1</td>\n",
              "      <td>1</td>\n",
              "      <td>0</td>\n",
              "      <td>1</td>\n",
              "      <td>1</td>\n",
              "      <td>1</td>\n",
              "      <td>0</td>\n",
              "      <td>Affinity card is great. I think it is a hassle...</td>\n",
              "    </tr>\n",
              "    <tr>\n",
              "      <th>2</th>\n",
              "      <td>101503</td>\n",
              "      <td>F</td>\n",
              "      <td>20</td>\n",
              "      <td>NeverM</td>\n",
              "      <td>United States of America</td>\n",
              "      <td>H: 150,000 - 169,999</td>\n",
              "      <td>HS-grad</td>\n",
              "      <td>Cleric.</td>\n",
              "      <td>2</td>\n",
              "      <td>2</td>\n",
              "      <td>0</td>\n",
              "      <td>1</td>\n",
              "      <td>0</td>\n",
              "      <td>0</td>\n",
              "      <td>1</td>\n",
              "      <td>1</td>\n",
              "      <td>1</td>\n",
              "      <td>0</td>\n",
              "      <td>I purchased a new computer recently, but the m...</td>\n",
              "    </tr>\n",
              "    <tr>\n",
              "      <th>3</th>\n",
              "      <td>101504</td>\n",
              "      <td>M</td>\n",
              "      <td>45</td>\n",
              "      <td>Married</td>\n",
              "      <td>United States of America</td>\n",
              "      <td>B: 30,000 - 49,999</td>\n",
              "      <td>Bach.</td>\n",
              "      <td>Exec.</td>\n",
              "      <td>3</td>\n",
              "      <td>5</td>\n",
              "      <td>1</td>\n",
              "      <td>0</td>\n",
              "      <td>0</td>\n",
              "      <td>1</td>\n",
              "      <td>1</td>\n",
              "      <td>1</td>\n",
              "      <td>0</td>\n",
              "      <td>0</td>\n",
              "      <td>Affinity card is great. I think it is a hassle...</td>\n",
              "    </tr>\n",
              "    <tr>\n",
              "      <th>4</th>\n",
              "      <td>101505</td>\n",
              "      <td>M</td>\n",
              "      <td>34</td>\n",
              "      <td>NeverM</td>\n",
              "      <td>United States of America</td>\n",
              "      <td>K: 250,000 - 299,999</td>\n",
              "      <td>Masters</td>\n",
              "      <td>Sales</td>\n",
              "      <td>9+</td>\n",
              "      <td>5</td>\n",
              "      <td>1</td>\n",
              "      <td>1</td>\n",
              "      <td>1</td>\n",
              "      <td>0</td>\n",
              "      <td>1</td>\n",
              "      <td>1</td>\n",
              "      <td>0</td>\n",
              "      <td>0</td>\n",
              "      <td>Why didn't you start a program like this befor...</td>\n",
              "    </tr>\n",
              "  </tbody>\n",
              "</table>\n",
              "</div>\n",
              "      <button class=\"colab-df-convert\" onclick=\"convertToInteractive('df-9391f516-09ba-4e87-b2ee-73cde5c8e699')\"\n",
              "              title=\"Convert this dataframe to an interactive table.\"\n",
              "              style=\"display:none;\">\n",
              "        \n",
              "  <svg xmlns=\"http://www.w3.org/2000/svg\" height=\"24px\"viewBox=\"0 0 24 24\"\n",
              "       width=\"24px\">\n",
              "    <path d=\"M0 0h24v24H0V0z\" fill=\"none\"/>\n",
              "    <path d=\"M18.56 5.44l.94 2.06.94-2.06 2.06-.94-2.06-.94-.94-2.06-.94 2.06-2.06.94zm-11 1L8.5 8.5l.94-2.06 2.06-.94-2.06-.94L8.5 2.5l-.94 2.06-2.06.94zm10 10l.94 2.06.94-2.06 2.06-.94-2.06-.94-.94-2.06-.94 2.06-2.06.94z\"/><path d=\"M17.41 7.96l-1.37-1.37c-.4-.4-.92-.59-1.43-.59-.52 0-1.04.2-1.43.59L10.3 9.45l-7.72 7.72c-.78.78-.78 2.05 0 2.83L4 21.41c.39.39.9.59 1.41.59.51 0 1.02-.2 1.41-.59l7.78-7.78 2.81-2.81c.8-.78.8-2.07 0-2.86zM5.41 20L4 18.59l7.72-7.72 1.47 1.35L5.41 20z\"/>\n",
              "  </svg>\n",
              "      </button>\n",
              "      \n",
              "  <style>\n",
              "    .colab-df-container {\n",
              "      display:flex;\n",
              "      flex-wrap:wrap;\n",
              "      gap: 12px;\n",
              "    }\n",
              "\n",
              "    .colab-df-convert {\n",
              "      background-color: #E8F0FE;\n",
              "      border: none;\n",
              "      border-radius: 50%;\n",
              "      cursor: pointer;\n",
              "      display: none;\n",
              "      fill: #1967D2;\n",
              "      height: 32px;\n",
              "      padding: 0 0 0 0;\n",
              "      width: 32px;\n",
              "    }\n",
              "\n",
              "    .colab-df-convert:hover {\n",
              "      background-color: #E2EBFA;\n",
              "      box-shadow: 0px 1px 2px rgba(60, 64, 67, 0.3), 0px 1px 3px 1px rgba(60, 64, 67, 0.15);\n",
              "      fill: #174EA6;\n",
              "    }\n",
              "\n",
              "    [theme=dark] .colab-df-convert {\n",
              "      background-color: #3B4455;\n",
              "      fill: #D2E3FC;\n",
              "    }\n",
              "\n",
              "    [theme=dark] .colab-df-convert:hover {\n",
              "      background-color: #434B5C;\n",
              "      box-shadow: 0px 1px 3px 1px rgba(0, 0, 0, 0.15);\n",
              "      filter: drop-shadow(0px 1px 2px rgba(0, 0, 0, 0.3));\n",
              "      fill: #FFFFFF;\n",
              "    }\n",
              "  </style>\n",
              "\n",
              "      <script>\n",
              "        const buttonEl =\n",
              "          document.querySelector('#df-9391f516-09ba-4e87-b2ee-73cde5c8e699 button.colab-df-convert');\n",
              "        buttonEl.style.display =\n",
              "          google.colab.kernel.accessAllowed ? 'block' : 'none';\n",
              "\n",
              "        async function convertToInteractive(key) {\n",
              "          const element = document.querySelector('#df-9391f516-09ba-4e87-b2ee-73cde5c8e699');\n",
              "          const dataTable =\n",
              "            await google.colab.kernel.invokeFunction('convertToInteractive',\n",
              "                                                     [key], {});\n",
              "          if (!dataTable) return;\n",
              "\n",
              "          const docLinkHtml = 'Like what you see? Visit the ' +\n",
              "            '<a target=\"_blank\" href=https://colab.research.google.com/notebooks/data_table.ipynb>data table notebook</a>'\n",
              "            + ' to learn more about interactive tables.';\n",
              "          element.innerHTML = '';\n",
              "          dataTable['output_type'] = 'display_data';\n",
              "          await google.colab.output.renderOutput(dataTable, element);\n",
              "          const docLink = document.createElement('div');\n",
              "          docLink.innerHTML = docLinkHtml;\n",
              "          element.appendChild(docLink);\n",
              "        }\n",
              "      </script>\n",
              "    </div>\n",
              "  </div>\n",
              "  "
            ]
          },
          "metadata": {},
          "execution_count": 81
        }
      ],
      "source": [
        "#Import the required library\n",
        "import pandas as pd\n",
        "\n",
        "#Load the Data and assign a variable name to it\n",
        "mcdata = pd.read_csv('/content/Marketing Campaign data.csv')\n",
        "\n",
        "#View the first 5 rows to view and have an understanding of the Data\n",
        "mcdata.head()"
      ]
    },
    {
      "cell_type": "code",
      "execution_count": null,
      "metadata": {
        "colab": {
          "base_uri": "https://localhost:8080/"
        },
        "id": "GCti9E-2FcSK",
        "outputId": "518b74c8-4471-4056-8bb9-ec077669491c"
      },
      "outputs": [
        {
          "output_type": "stream",
          "name": "stdout",
          "text": [
            "<class 'pandas.core.frame.DataFrame'>\n",
            "RangeIndex: 1500 entries, 0 to 1499\n",
            "Data columns (total 19 columns):\n",
            " #   Column                   Non-Null Count  Dtype \n",
            "---  ------                   --------------  ----- \n",
            " 0   CUST_ID                  1500 non-null   int64 \n",
            " 1   CUST_GENDER              1500 non-null   object\n",
            " 2   AGE                      1500 non-null   int64 \n",
            " 3   CUST_MARITAL_STATUS      1500 non-null   object\n",
            " 4   COUNTRY_NAME             1500 non-null   object\n",
            " 5   CUST_INCOME_LEVEL        1500 non-null   object\n",
            " 6   EDUCATION                1500 non-null   object\n",
            " 7   OCCUPATION               1500 non-null   object\n",
            " 8   HOUSEHOLD_SIZE           1500 non-null   object\n",
            " 9   YRS_RESIDENCE            1500 non-null   int64 \n",
            " 10  AFFINITY_CARD            1500 non-null   int64 \n",
            " 11  BULK_PACK_DISKETTES      1500 non-null   int64 \n",
            " 12  FLAT_PANEL_MONITOR       1500 non-null   int64 \n",
            " 13  HOME_THEATER_PACKAGE     1500 non-null   int64 \n",
            " 14  BOOKKEEPING_APPLICATION  1500 non-null   int64 \n",
            " 15  PRINTER_SUPPLIES         1500 non-null   int64 \n",
            " 16  Y_BOX_GAMES              1500 non-null   int64 \n",
            " 17  OS_DOC_SET_KANJI         1500 non-null   int64 \n",
            " 18  COMMENTS                 1427 non-null   object\n",
            "dtypes: int64(11), object(8)\n",
            "memory usage: 222.8+ KB\n",
            "             CUST_ID          AGE  YRS_RESIDENCE  AFFINITY_CARD  \\\n",
            "count    1500.000000  1500.000000    1500.000000    1500.000000   \n",
            "mean   102250.500000    38.892000       4.088667       0.253333   \n",
            "std       433.157015    13.636384       1.920919       0.435065   \n",
            "min    101501.000000    17.000000       0.000000       0.000000   \n",
            "25%    101875.750000    28.000000       3.000000       0.000000   \n",
            "50%    102250.500000    37.000000       4.000000       0.000000   \n",
            "75%    102625.250000    47.000000       5.000000       1.000000   \n",
            "max    103000.000000    90.000000      14.000000       1.000000   \n",
            "\n",
            "       BULK_PACK_DISKETTES  FLAT_PANEL_MONITOR  HOME_THEATER_PACKAGE  \\\n",
            "count            1500.0000         1500.000000           1500.000000   \n",
            "mean                0.6280            0.582000              0.575333   \n",
            "std                 0.4835            0.493395              0.494457   \n",
            "min                 0.0000            0.000000              0.000000   \n",
            "25%                 0.0000            0.000000              0.000000   \n",
            "50%                 1.0000            1.000000              1.000000   \n",
            "75%                 1.0000            1.000000              1.000000   \n",
            "max                 1.0000            1.000000              1.000000   \n",
            "\n",
            "       BOOKKEEPING_APPLICATION  PRINTER_SUPPLIES  Y_BOX_GAMES  \\\n",
            "count              1500.000000            1500.0  1500.000000   \n",
            "mean                  0.880667               1.0     0.286667   \n",
            "std                   0.324288               0.0     0.452355   \n",
            "min                   0.000000               1.0     0.000000   \n",
            "25%                   1.000000               1.0     0.000000   \n",
            "50%                   1.000000               1.0     0.000000   \n",
            "75%                   1.000000               1.0     1.000000   \n",
            "max                   1.000000               1.0     1.000000   \n",
            "\n",
            "       OS_DOC_SET_KANJI  \n",
            "count       1500.000000  \n",
            "mean           0.002000  \n",
            "std            0.044692  \n",
            "min            0.000000  \n",
            "25%            0.000000  \n",
            "50%            0.000000  \n",
            "75%            0.000000  \n",
            "max            1.000000  \n"
          ]
        }
      ],
      "source": [
        "#Question 1.1\n",
        "\n",
        "#Perform the describe() and info() methods to show characteristics of each attributes\n",
        "summary = mcdata.describe()\n",
        "info = mcdata.info()\n",
        "\n",
        "#Concatenate the two outputs and assign a new Dataframe to it\n",
        "describe= pd.concat([summary,info])\n",
        "\n",
        "#Display the result\n",
        "print(describe)"
      ]
    },
    {
      "cell_type": "code",
      "execution_count": null,
      "metadata": {
        "colab": {
          "base_uri": "https://localhost:8080/"
        },
        "id": "BMrAwiPXnGBw",
        "outputId": "10ff3168-e893-4bdb-d8a2-459352f8f4ce"
      },
      "outputs": [
        {
          "output_type": "stream",
          "name": "stdout",
          "text": [
            "                         Missing Entries                 Unique Data Types\n",
            "CUST_ID                                0                   {<class 'int'>}\n",
            "CUST_GENDER                            0                   {<class 'str'>}\n",
            "AGE                                    0                   {<class 'int'>}\n",
            "CUST_MARITAL_STATUS                    0                   {<class 'str'>}\n",
            "COUNTRY_NAME                           0                   {<class 'str'>}\n",
            "CUST_INCOME_LEVEL                      0                   {<class 'str'>}\n",
            "EDUCATION                              0                   {<class 'str'>}\n",
            "OCCUPATION                             0                   {<class 'str'>}\n",
            "HOUSEHOLD_SIZE                         0                   {<class 'str'>}\n",
            "YRS_RESIDENCE                          0                   {<class 'int'>}\n",
            "AFFINITY_CARD                          0                   {<class 'int'>}\n",
            "BULK_PACK_DISKETTES                    0                   {<class 'int'>}\n",
            "FLAT_PANEL_MONITOR                     0                   {<class 'int'>}\n",
            "HOME_THEATER_PACKAGE                   0                   {<class 'int'>}\n",
            "BOOKKEEPING_APPLICATION                0                   {<class 'int'>}\n",
            "PRINTER_SUPPLIES                       0                   {<class 'int'>}\n",
            "Y_BOX_GAMES                            0                   {<class 'int'>}\n",
            "OS_DOC_SET_KANJI                       0                   {<class 'int'>}\n",
            "COMMENTS                              73  {<class 'str'>, <class 'float'>}\n",
            "\n",
            "                     Column  Error Count\n",
            "0                   CUST_ID            0\n",
            "1               CUST_GENDER            0\n",
            "2                       AGE            0\n",
            "3       CUST_MARITAL_STATUS            0\n",
            "4              COUNTRY_NAME            0\n",
            "5         CUST_INCOME_LEVEL            0\n",
            "6                 EDUCATION            0\n",
            "7                OCCUPATION            0\n",
            "8            HOUSEHOLD_SIZE         1500\n",
            "9             YRS_RESIDENCE            0\n",
            "10            AFFINITY_CARD            0\n",
            "11      BULK_PACK_DISKETTES            0\n",
            "12       FLAT_PANEL_MONITOR            0\n",
            "13     HOME_THEATER_PACKAGE            0\n",
            "14  BOOKKEEPING_APPLICATION            0\n",
            "15         PRINTER_SUPPLIES            0\n",
            "16              Y_BOX_GAMES            0\n",
            "17         OS_DOC_SET_KANJI            0\n",
            "18                 COMMENTS           73\n"
          ]
        }
      ],
      "source": [
        "#Question 1.2\n",
        "\n",
        "#Create a DataFrame to calculate missing entries and unique data types\n",
        "missing_data = pd.DataFrame({\n",
        "    'Missing Entries': mcdata.isnull().sum(),\n",
        "    'Unique Data Types': mcdata.apply(lambda x: set(x.apply(type))),\n",
        "})\n",
        "print(missing_data)\n",
        "\n",
        "#Input some space for clarity\n",
        "print()\n",
        "\n",
        "#Define the expected column types\n",
        "expected_types = {\n",
        "    'CUST_ID': int,\n",
        "    'CUST_GENDER': str,\n",
        "    'AGE': int,\n",
        "    'CUST_MARITAL_STATUS': str,\n",
        "    'COUNTRY_NAME': str,\n",
        "    'CUST_INCOME_LEVEL': str,\n",
        "    'EDUCATION': str,\n",
        "    'OCCUPATION': str,\n",
        "    'HOUSEHOLD_SIZE': int,\n",
        "    'YRS_RESIDENCE': int,\n",
        "    'AFFINITY_CARD': int,\n",
        "    'BULK_PACK_DISKETTES': int,\n",
        "    'FLAT_PANEL_MONITOR': int,\n",
        "    'HOME_THEATER_PACKAGE': int,\n",
        "    'BOOKKEEPING_APPLICATION': int,\n",
        "    'PRINTER_SUPPLIES': int,\n",
        "    'Y_BOX_GAMES': int,\n",
        "    'OS_DOC_SET_KANJI': int,\n",
        "    'COMMENTS': str\n",
        "}\n",
        "\n",
        "#Loop through each column and count the number of errors\n",
        "num_errors = {}\n",
        "for column, expected_type in expected_types.items():\n",
        "    incorrect_mask = mcdata[column].apply(lambda x: not isinstance(x, expected_type))\n",
        "    num_errors[column] = incorrect_mask.sum()\n",
        "\n",
        "#Create a data frame with the error counts\n",
        "error_df = pd.DataFrame({'Column': list(num_errors.keys()), 'Error Count': list(num_errors.values())})\n",
        "\n",
        "#Display the data frame\n",
        "print(error_df)"
      ]
    },
    {
      "cell_type": "markdown",
      "metadata": {
        "id": "e3L5Ts8DgVz2"
      },
      "source": [
        "Household_size column being read as string/object, has to be converted to integers for analysis."
      ]
    },
    {
      "cell_type": "code",
      "execution_count": null,
      "metadata": {
        "colab": {
          "base_uri": "https://localhost:8080/"
        },
        "id": "ZdVRgCGvOs6V",
        "outputId": "202c53f1-a592-4aec-a274-875f6b74b43d"
      },
      "outputs": [
        {
          "output_type": "stream",
          "name": "stdout",
          "text": [
            "     CUST_GENDER  AGE CUST_MARITAL_STATUS              COUNTRY_NAME  \\\n",
            "0              F   41              NeverM  United States of America   \n",
            "1              M   27              NeverM  United States of America   \n",
            "2              F   20              NeverM  United States of America   \n",
            "3              M   45             Married  United States of America   \n",
            "4              M   34              NeverM  United States of America   \n",
            "...          ...  ...                 ...                       ...   \n",
            "1495           M   17              NeverM  United States of America   \n",
            "1496           M   41             Married                     Spain   \n",
            "1497           M   53             Married  United States of America   \n",
            "1498           M   55             Married  United States of America   \n",
            "1499           F   40             Divorc.  United States of America   \n",
            "\n",
            "         CUST_INCOME_LEVEL EDUCATION OCCUPATION HOUSEHOLD_SIZE  YRS_RESIDENCE  \\\n",
            "0     J: 190,000 - 249,999   Masters      Prof.              2              4   \n",
            "1     I: 170,000 - 189,999     Bach.      Sales              2              3   \n",
            "2     H: 150,000 - 169,999   HS-grad    Cleric.              2              2   \n",
            "3       B: 30,000 - 49,999     Bach.      Exec.              3              5   \n",
            "4     K: 250,000 - 299,999   Masters      Sales             9+              5   \n",
            "...                    ...       ...        ...            ...            ...   \n",
            "1495    C: 50,000 - 69,999      10th      Other              1              1   \n",
            "1496  L: 300,000 and above     Bach.      Exec.              3              4   \n",
            "1497  J: 190,000 - 249,999   HS-grad      Exec.              3              8   \n",
            "1498    C: 50,000 - 69,999   HS-grad    Cleric.              3              7   \n",
            "1499   E: 90,000 - 109,999   HS-grad    Cleric.              2              3   \n",
            "\n",
            "      AFFINITY_CARD  \n",
            "0                 0  \n",
            "1                 0  \n",
            "2                 0  \n",
            "3                 1  \n",
            "4                 1  \n",
            "...             ...  \n",
            "1495              0  \n",
            "1496              0  \n",
            "1497              1  \n",
            "1498              1  \n",
            "1499              0  \n",
            "\n",
            "[1500 rows x 10 columns]\n"
          ]
        }
      ],
      "source": [
        "#Question 2.1\n",
        "\n",
        "#Create a new DataFrame where all irrelevant columns are omitted\n",
        "\n",
        "mcdatax = mcdata.drop(columns=['CUST_ID','BULK_PACK_DISKETTES','FLAT_PANEL_MONITOR',\n",
        "                         'HOME_THEATER_PACKAGE','BOOKKEEPING_APPLICATION',\n",
        "                         'PRINTER_SUPPLIES','Y_BOX_GAMES','OS_DOC_SET_KANJI','COMMENTS'])\n",
        "\n",
        "#Display new dataframe\n",
        "print(mcdatax)"
      ]
    },
    {
      "cell_type": "markdown",
      "metadata": {
        "id": "uiyoj2WSSsEj"
      },
      "source": [
        "Customer information like Customer ID, Home theater package, Bookkeeping application etc. have no impact and are not relevant from a Marketing point of view, and should therefore be omitted in the analysis.\n",
        "\n",
        "*The task of reducing variables in a data set is a common preprocessing step in data analysis and machine learning. It can help improve the accuracy and efficiency of predictive models by removing irrelevant or redundant features."
      ]
    },
    {
      "cell_type": "code",
      "execution_count": null,
      "metadata": {
        "colab": {
          "base_uri": "https://localhost:8080/"
        },
        "id": "J2E3dAUhXwH8",
        "outputId": "6d0552d8-4a0e-443c-9b83-83a5ab41fbff"
      },
      "outputs": [
        {
          "output_type": "stream",
          "name": "stdout",
          "text": [
            "     CUST_GENDER  AGE CUST_MARITAL_STATUS              COUNTRY_NAME  \\\n",
            "1495           M   17              NeverM  United States of America   \n",
            "1496           M   41             Married                     Spain   \n",
            "1497           M   53             Married  United States of America   \n",
            "1498           M   55             Married  United States of America   \n",
            "1499           F   40             Divorc.  United States of America   \n",
            "\n",
            "         CUST_INCOME_LEVEL EDUCATION OCCUPATION  HOUSEHOLD_SIZE  \\\n",
            "1495    C: 50,000 - 69,999      10th      Other             1.0   \n",
            "1496  L: 300,000 and above     Bach.      Exec.             3.0   \n",
            "1497  J: 190,000 - 249,999   HS-grad      Exec.             3.0   \n",
            "1498    C: 50,000 - 69,999   HS-grad    Cleric.             3.0   \n",
            "1499   E: 90,000 - 109,999   HS-grad    Cleric.             2.0   \n",
            "\n",
            "      YRS_RESIDENCE  AFFINITY_CARD  \n",
            "1495              1              0  \n",
            "1496              4              0  \n",
            "1497              8              1  \n",
            "1498              7              1  \n",
            "1499              3              0  \n"
          ]
        }
      ],
      "source": [
        "# #Question 2.2\n",
        "\n",
        "#Convert non-numeric values to intergers and/or float in HOUSEHOLD_SIZE column\n",
        "mcdatax['HOUSEHOLD_SIZE'].replace(['06-Aug', '04-May'], [7.0, 4.5], inplace=True)\n",
        "\n",
        "#Replace string/object variables in HOUSEHOLD_SIZE  with integers\n",
        "mcdatax['HOUSEHOLD_SIZE'].replace(['1','2','3','9+'],[1.0,2.0,3.0,9.0], inplace=True)\n",
        "\n",
        "#Remove the rows with '?' in the OCCUPATION Column\n",
        "mcdatax.drop(mcdatax[mcdatax['OCCUPATION'] == '?'].index, inplace=True)\n",
        "\n",
        "#Display result\n",
        "print(mcdatax.tail())"
      ]
    },
    {
      "cell_type": "markdown",
      "metadata": {
        "id": "BPp7ngVc14U6"
      },
      "source": [
        "The Household_Size column contains values like 9+, 06-Aug , 04-May which are not integers.\n",
        "\n",
        "For the sake of this analysis, the 9+ would be converted to 9, while the entries which are being read as dates are actually '06-08' for '06-Aug', and '04-05' for '04-May'. To improve the quality of this analysis, we would use the average of these ranges. (i.e 06-08 = 7, 04-05 = 4.5)"
      ]
    },
    {
      "cell_type": "markdown",
      "metadata": {
        "id": "tFn5JzksJd_a"
      },
      "source": [
        "In order to improve the accuracy of the data analysis, increase the reliability, enhance the efficiency, and ensure that meaningful insights are drawn from the analysis, it is important to clean the data and eliminate errors and/or missing values."
      ]
    },
    {
      "cell_type": "code",
      "execution_count": null,
      "metadata": {
        "colab": {
          "base_uri": "https://localhost:8080/"
        },
        "id": "qpqZiukqIsVx",
        "outputId": "704cbcdc-7367-4170-eaf7-f71edaac2cc2"
      },
      "outputs": [
        {
          "output_type": "stream",
          "name": "stdout",
          "text": [
            "      CUST_GENDER  AGE CUST_MARITAL_STATUS              COUNTRY_NAME  \\\n",
            "1495            1   17              NeverM  United States of America   \n",
            "1496            1   41             Married                     Spain   \n",
            "1497            1   53             Married  United States of America   \n",
            "1498            1   55             Married  United States of America   \n",
            "1499            0   40             Divorc.  United States of America   \n",
            "\n",
            "         CUST_INCOME_LEVEL EDUCATION OCCUPATION  HOUSEHOLD_SIZE  \\\n",
            "1495    C: 50,000 - 69,999      10th      Other             1.0   \n",
            "1496  L: 300,000 and above     Bach.      Exec.             3.0   \n",
            "1497  J: 190,000 - 249,999   HS-grad      Exec.             3.0   \n",
            "1498    C: 50,000 - 69,999   HS-grad    Cleric.             3.0   \n",
            "1499   E: 90,000 - 109,999   HS-grad    Cleric.             2.0   \n",
            "\n",
            "      YRS_RESIDENCE  AFFINITY_CARD  \n",
            "1495              1              0  \n",
            "1496              4              0  \n",
            "1497              8              1  \n",
            "1498              7              1  \n",
            "1499              3              0  \n"
          ]
        }
      ],
      "source": [
        "#Question 2.3\n",
        "\n",
        "#Define a function to transform the CUST_GENDER column where F=0 & M=1\n",
        "def transform_cust_gender(value):\n",
        "    if value == 'F':\n",
        "        return 0\n",
        "    elif value == 'M':\n",
        "        return 1\n",
        "\n",
        "# apply the function to the CUST_GENDER column\n",
        "mcdatax['CUST_GENDER'] = mcdatax['CUST_GENDER'].apply(transform_cust_gender)\n",
        "\n",
        "#Display the result\n",
        "print(mcdatax.tail(5))"
      ]
    },
    {
      "cell_type": "code",
      "execution_count": null,
      "metadata": {
        "colab": {
          "base_uri": "https://localhost:8080/"
        },
        "id": "B2M56mMkMchM",
        "outputId": "0b68616a-57fa-4780-af87-4e99c6f9e4c3"
      },
      "outputs": [
        {
          "output_type": "stream",
          "name": "stdout",
          "text": [
            "      CUST_GENDER  AGE CUST_MARITAL_STATUS  COUNTRY_NAME  \\\n",
            "1495            1   17              NeverM           1.0   \n",
            "1496            1   41             Married          12.0   \n",
            "1497            1   53             Married           1.0   \n",
            "1498            1   55             Married           1.0   \n",
            "1499            0   40             Divorc.           1.0   \n",
            "\n",
            "         CUST_INCOME_LEVEL EDUCATION OCCUPATION  HOUSEHOLD_SIZE  \\\n",
            "1495    C: 50,000 - 69,999      10th      Other             1.0   \n",
            "1496  L: 300,000 and above     Bach.      Exec.             3.0   \n",
            "1497  J: 190,000 - 249,999   HS-grad      Exec.             3.0   \n",
            "1498    C: 50,000 - 69,999   HS-grad    Cleric.             3.0   \n",
            "1499   E: 90,000 - 109,999   HS-grad    Cleric.             2.0   \n",
            "\n",
            "      YRS_RESIDENCE  AFFINITY_CARD  \n",
            "1495              1              0  \n",
            "1496              4              0  \n",
            "1497              8              1  \n",
            "1498              7              1  \n",
            "1499              3              0  \n"
          ]
        }
      ],
      "source": [
        "#Question 2.4\n",
        "\n",
        "# count the occurrences of each country in the COUNTRY_NAME column\n",
        "count_of_country = mcdatax['COUNTRY_NAME'].value_counts()\n",
        "\n",
        "# assign ordinal numbers based on the descending order of occurrence\n",
        "ordinal_numbers = count_of_country.rank(ascending=False, method= 'dense')\n",
        "\n",
        "# create a dictionary to map countries to their ordinal numbers\n",
        "country_ordinal_map = dict(zip(ordinal_numbers.index, ordinal_numbers))\n",
        "\n",
        "\n",
        "# apply the mapping to the COUNTRY_NAME column\n",
        "mcdatax['COUNTRY_NAME'] = mcdatax['COUNTRY_NAME'].map(country_ordinal_map)\n",
        "\n",
        "#Display the result\n",
        "print(mcdatax.tail(5))"
      ]
    },
    {
      "cell_type": "markdown",
      "metadata": {
        "id": "S-dLJ5xzlIIm"
      },
      "source": [
        "had to use 'dense' method, as I was getting decimals as the default is the 'average' method"
      ]
    },
    {
      "cell_type": "code",
      "execution_count": null,
      "metadata": {
        "colab": {
          "base_uri": "https://localhost:8080/"
        },
        "id": "oAQACSPdPb_c",
        "outputId": "d2ac07d9-d7b0-439f-cbf8-88e3093d8069"
      },
      "outputs": [
        {
          "output_type": "stream",
          "name": "stdout",
          "text": [
            "      CUST_GENDER  AGE CUST_MARITAL_STATUS  COUNTRY_NAME  CUST_INCOME_LEVEL  \\\n",
            "0               0   41              NeverM           1.0                 10   \n",
            "1               1   27              NeverM           1.0                  9   \n",
            "2               0   20              NeverM           1.0                  8   \n",
            "3               1   45             Married           1.0                  2   \n",
            "4               1   34              NeverM           1.0                 11   \n",
            "...           ...  ...                 ...           ...                ...   \n",
            "1495            1   17              NeverM           1.0                  3   \n",
            "1496            1   41             Married          12.0                 12   \n",
            "1497            1   53             Married           1.0                 10   \n",
            "1498            1   55             Married           1.0                  3   \n",
            "1499            0   40             Divorc.           1.0                  5   \n",
            "\n",
            "     EDUCATION OCCUPATION  HOUSEHOLD_SIZE  YRS_RESIDENCE  AFFINITY_CARD  \n",
            "0      Masters      Prof.             2.0              4              0  \n",
            "1        Bach.      Sales             2.0              3              0  \n",
            "2      HS-grad    Cleric.             2.0              2              0  \n",
            "3        Bach.      Exec.             3.0              5              1  \n",
            "4      Masters      Sales             9.0              5              1  \n",
            "...        ...        ...             ...            ...            ...  \n",
            "1495      10th      Other             1.0              1              0  \n",
            "1496     Bach.      Exec.             3.0              4              0  \n",
            "1497   HS-grad      Exec.             3.0              8              1  \n",
            "1498   HS-grad    Cleric.             3.0              7              1  \n",
            "1499   HS-grad    Cleric.             2.0              3              0  \n",
            "\n",
            "[1420 rows x 10 columns]\n"
          ]
        }
      ],
      "source": [
        "#Question 2.5\n",
        "\n",
        "#Create a dictionary mapping income levels to ordinal numbers\n",
        "cust_income_levels = {'A: Below 30,000':1, 'B: 30,000 - 49,999':2,\n",
        "                 'C: 50,000 - 69,999':3, 'D: 70,000 - 89,999':4,\n",
        "                 'E: 90,000 - 109,999':5, 'F: 110,000 - 129,999':6,\n",
        "                 'G: 130,000 - 149,999':7, 'H: 150,000 - 169,999':8,\n",
        "                 'I: 170,000 - 189,999':9, 'J: 190,000 - 249,999':10,\n",
        "                 'K: 250,000 - 299,999':11, 'L: 300,000 and above':12}\n",
        "\n",
        "mcdatax['CUST_INCOME_LEVEL'] = mcdatax['CUST_INCOME_LEVEL'].map(cust_income_levels)\n",
        "\n",
        "#Display the result\n",
        "print(mcdatax)"
      ]
    },
    {
      "cell_type": "code",
      "execution_count": null,
      "metadata": {
        "colab": {
          "base_uri": "https://localhost:8080/"
        },
        "id": "WAY0ttKsnklU",
        "outputId": "88284eb0-6940-4cbb-a679-51eddacb441a"
      },
      "outputs": [
        {
          "output_type": "stream",
          "name": "stdout",
          "text": [
            "   CUST_GENDER  AGE CUST_MARITAL_STATUS  COUNTRY_NAME  CUST_INCOME_LEVEL  \\\n",
            "0            0   41              NeverM           1.0                 10   \n",
            "1            1   27              NeverM           1.0                  9   \n",
            "2            0   20              NeverM           1.0                  8   \n",
            "3            1   45             Married           1.0                  2   \n",
            "4            1   34              NeverM           1.0                 11   \n",
            "\n",
            "   EDUCATION OCCUPATION  HOUSEHOLD_SIZE  YRS_RESIDENCE  AFFINITY_CARD  \n",
            "0          2      Prof.             2.0              4              0  \n",
            "1          4      Sales             2.0              3              0  \n",
            "2          8    Cleric.             2.0              2              0  \n",
            "3          4      Exec.             3.0              5              1  \n",
            "4          2      Sales             9.0              5              1  \n"
          ]
        }
      ],
      "source": [
        "#Question 2.6\n",
        "\n",
        "# Define a dictionary to map education levels to ordinal numbers\n",
        "cust_education_levels = {'PhD': 1, 'Masters': 2, 'Profsc': 3, 'Bach.': 4,\n",
        "                    '< Bach.': 5, 'Assoc-A': 6, 'Assoc-V': 7, 'HS-grad': 8,\n",
        "                    '12th': 9, '11th': 10, '10th': 11, '9th': 12, '7th-8th': 13,\n",
        "                    '5th-6th': 14, '1st-4th': 15, 'Presch.': 16}\n",
        "\n",
        "# Map education levels to ordinal numbers and create a new column\n",
        "mcdatax['EDUCATION'] = mcdatax['EDUCATION'].map(cust_education_levels)\n",
        "\n",
        "#Display the result\n",
        "print(mcdatax.head())"
      ]
    },
    {
      "cell_type": "markdown",
      "metadata": {
        "id": "SIer9LzMsk6s"
      },
      "source": [
        "*Explain based on your research of the USA Edu system"
      ]
    },
    {
      "cell_type": "code",
      "execution_count": null,
      "metadata": {
        "colab": {
          "base_uri": "https://localhost:8080/"
        },
        "id": "nzZwsJ25r0kY",
        "outputId": "83acfd4f-9f40-4454-94a5-ba01608e4a81"
      },
      "outputs": [
        {
          "output_type": "stream",
          "name": "stdout",
          "text": [
            "      CUST_GENDER  AGE CUST_MARITAL_STATUS  COUNTRY_NAME  CUST_INCOME_LEVEL  \\\n",
            "1479            0   19              NeverM           1.0                 12   \n",
            "1480            0   43             Married           1.0                 10   \n",
            "1481            0   33              NeverM           1.0                 10   \n",
            "1482            1   32             Married           1.0                  7   \n",
            "1483            0   30              Separ.           1.0                  4   \n",
            "1484            1   27              NeverM           1.0                 12   \n",
            "1485            1   19              NeverM           1.0                  1   \n",
            "1486            1   51             Married           1.0                 12   \n",
            "1487            0   31              Separ.           1.0                 10   \n",
            "1488            1   35              NeverM           1.0                  5   \n",
            "1489            1   35              NeverM           1.0                 11   \n",
            "1490            1   52             Married           1.0                 10   \n",
            "1491            1   31             Married           1.0                  8   \n",
            "1493            1   44             Married           1.0                  3   \n",
            "1494            0   19              NeverM           1.0                 10   \n",
            "1495            1   17              NeverM           1.0                  3   \n",
            "1496            1   41             Married          12.0                 12   \n",
            "1497            1   53             Married           1.0                 10   \n",
            "1498            1   55             Married           1.0                  3   \n",
            "1499            0   40             Divorc.           1.0                  5   \n",
            "\n",
            "      EDUCATION OCCUPATION  HOUSEHOLD_SIZE  YRS_RESIDENCE  AFFINITY_CARD  \n",
            "1479          5    Cleric.               1              1              0  \n",
            "1480          7      Prof.               4              4              1  \n",
            "1481          7      Prof.               6              2              0  \n",
            "1482          4    Machine               3              4              0  \n",
            "1483          5      Other               6              3              0  \n",
            "1484          8    Cleric.               2              3              0  \n",
            "1485          5      Prof.               1              0              0  \n",
            "1486          8     Crafts               3              5              1  \n",
            "1487          8      Other               2              3              0  \n",
            "1488          4      Sales               2              4              0  \n",
            "1489          2      Sales               2              5              0  \n",
            "1490          8      Sales               3              5              0  \n",
            "1491          8     Crafts               3              4              0  \n",
            "1493          8    Transp.               3              4              1  \n",
            "1494          5      Other               1              0              0  \n",
            "1495         11      Other               1              1              0  \n",
            "1496          4      Exec.               3              4              0  \n",
            "1497          8      Exec.               3              8              1  \n",
            "1498          8    Cleric.               3              7              1  \n",
            "1499          8    Cleric.               2              3              0  \n"
          ]
        }
      ],
      "source": [
        "#Question 2.7\n",
        "\n",
        "# Define a dictionary to map Household size to ordinal numbers\n",
        "household_size_num = {1.0: 1, 2.0: 2, 3.0: 3, 4.5: 4, 7.0: 5,9.0: 6}\n",
        "\n",
        "# Apply mapping to HOUSEHOLD_SIZE column\n",
        "mcdatax['HOUSEHOLD_SIZE'] = mcdatax['HOUSEHOLD_SIZE'].map(household_size_num)\n",
        "\n",
        "#Print updated mcdatax dataframe\n",
        "print(mcdatax.tail(20))"
      ]
    },
    {
      "cell_type": "code",
      "execution_count": null,
      "metadata": {
        "colab": {
          "base_uri": "https://localhost:8080/"
        },
        "id": "hbh5a2krJety",
        "outputId": "3c056cee-aa64-4e4e-d43d-db5ae3d6e1a6"
      },
      "outputs": [
        {
          "output_type": "stream",
          "name": "stdout",
          "text": [
            "   CUST_GENDER  AGE  CUST_MARITAL_STATUS  COUNTRY_NAME  CUST_INCOME_LEVEL  \\\n",
            "0            0   41                    5           1.0                 10   \n",
            "1            1   27                    5           1.0                  9   \n",
            "2            0   20                    5           1.0                  8   \n",
            "3            1   45                    4           1.0                  2   \n",
            "4            1   34                    5           1.0                 11   \n",
            "\n",
            "   EDUCATION  OCCUPATION  HOUSEHOLD_SIZE  YRS_RESIDENCE  AFFINITY_CARD  \n",
            "0          2          11               2              4              0  \n",
            "1          4          13               2              3              0  \n",
            "2          8           2               2              2              0  \n",
            "3          4           4               3              5              1  \n",
            "4          2          13               6              5              1  \n"
          ]
        }
      ],
      "source": [
        "#Define a dictionary to map Marital status and Occupations to ordinal numbers (in alphabetical order)\n",
        "\n",
        "cust_marital_status_mapping = {'Divorc.':1, 'Mabsent':2, 'Mar-AF':3,\n",
        "                               'Married':4, 'NeverM':5, 'Separ.':6, 'Widowed':7}\n",
        "\n",
        "occupation_mapping = {'Armed-F':1, 'Cleric.':2, 'Crafts':3, 'Exec.':4,\n",
        "                      'Farming':5, 'Handler':6, 'House-s':7, 'Machine':8,\n",
        "                      'NotSpec.':9, 'Other':10, 'Prof.':11, 'Protec.':12,\n",
        "                      'Sales':13, 'TechSup':14, 'Transp.':15}\n",
        "\n",
        "#Apply the mapping to the CUST_MARITAL_STATUS column\n",
        "mcdatax['CUST_MARITAL_STATUS'] = mcdatax['CUST_MARITAL_STATUS'].map(\n",
        "    cust_marital_status_mapping)\n",
        "\n",
        "#Apply the mapping to the OCCUPATION column\n",
        "mcdatax['OCCUPATION'] = mcdatax['OCCUPATION'].map(occupation_mapping)\n",
        "\n",
        "#Display the result\n",
        "print(mcdatax.head(5))"
      ]
    },
    {
      "cell_type": "code",
      "execution_count": null,
      "metadata": {
        "colab": {
          "base_uri": "https://localhost:8080/"
        },
        "id": "YWk0zeUK6f97",
        "outputId": "e3eecfa8-f8c0-4552-eef4-f4a2aa200d69"
      },
      "outputs": [
        {
          "output_type": "stream",
          "name": "stdout",
          "text": [
            "                         Sum       Mean  Standard deviation  Skewness  \\\n",
            "CUST_GENDER            971.0   0.683803            0.465155 -0.791401   \n",
            "AGE                  54951.0  38.697887           13.126784  0.568577   \n",
            "CUST_MARITAL_STATUS   5765.0   4.059859            1.362932 -1.013142   \n",
            "COUNTRY_NAME          1931.0   1.359859            1.417974  4.988359   \n",
            "CUST_INCOME_LEVEL    11530.0   8.119718            3.084395 -0.646925   \n",
            "EDUCATION             9109.0   6.414789            2.688515  0.529066   \n",
            "OCCUPATION           10769.0   7.583803            4.320088  0.133008   \n",
            "HOUSEHOLD_SIZE        4142.0   2.916901            1.393176  0.889278   \n",
            "YRS_RESIDENCE         5876.0   4.138028            1.895238  0.780784   \n",
            "AFFINITY_CARD          370.0   0.260563            0.439097  1.092125   \n",
            "\n",
            "                      Kurtosis  \n",
            "CUST_GENDER          -1.375623  \n",
            "AGE                   0.079405  \n",
            "CUST_MARITAL_STATUS   1.002571  \n",
            "COUNTRY_NAME         26.758324  \n",
            "CUST_INCOME_LEVEL    -0.649052  \n",
            "EDUCATION             0.310462  \n",
            "OCCUPATION           -1.492117  \n",
            "HOUSEHOLD_SIZE        0.339478  \n",
            "YRS_RESIDENCE         1.721655  \n",
            "AFFINITY_CARD        -0.808403  \n"
          ]
        }
      ],
      "source": [
        "#Question 3.1\n",
        "\n",
        "#Evaluate the summary statistics of the variables and create a new single DataFrame for the results\n",
        "statistics = pd.DataFrame({\n",
        "    'Sum': mcdatax.sum(),\n",
        "    'Mean': mcdatax.mean(),\n",
        "    'Standard deviation': mcdatax.std(),\n",
        "    'Skewness': mcdatax.skew(),\n",
        "    'Kurtosis': mcdatax.kurt(),\n",
        "})\n",
        "\n",
        "# Print the result\n",
        "print(statistics)"
      ]
    },
    {
      "cell_type": "code",
      "execution_count": null,
      "metadata": {
        "colab": {
          "base_uri": "https://localhost:8080/"
        },
        "id": "h95JhcY5lvgM",
        "outputId": "190de2b0-c26b-41bc-8088-4c7e488cb12a"
      },
      "outputs": [
        {
          "output_type": "stream",
          "name": "stdout",
          "text": [
            "CUST_GENDER            0.224247\n",
            "AGE                    0.247680\n",
            "CUST_MARITAL_STATUS   -0.039034\n",
            "COUNTRY_NAME           0.030393\n",
            "CUST_INCOME_LEVEL     -0.020968\n",
            "EDUCATION             -0.324431\n",
            "OCCUPATION             0.002226\n",
            "HOUSEHOLD_SIZE         0.051548\n",
            "YRS_RESIDENCE          0.351373\n",
            "AFFINITY_CARD          1.000000\n",
            "Name: AFFINITY_CARD, dtype: float64\n"
          ]
        }
      ],
      "source": [
        "#Question 3.2\n",
        "\n",
        "#calculate the correlation of each column with 'AFFINITY_CARD' column\n",
        "corr_of_variables = mcdatax.corr()['AFFINITY_CARD']\n",
        "\n",
        "#Display the correlation values\n",
        "print(corr_of_variables)"
      ]
    },
    {
      "cell_type": "code",
      "execution_count": null,
      "metadata": {
        "colab": {
          "base_uri": "https://localhost:8080/",
          "height": 507
        },
        "id": "hJBUjgJen0oi",
        "outputId": "d593e349-c8c5-46b0-c9aa-5b4c6449a3c1"
      },
      "outputs": [
        {
          "name": "stdout",
          "output_type": "stream",
          "text": [
            "Enter variable name /*or type exit to close->>EDUCATION\n"
          ]
        },
        {
          "output_type": "display_data",
          "data": {
            "text/plain": [
              "<Figure size 640x480 with 1 Axes>"
            ],
            "image/png": "[encoded data removed]"
          },
          "metadata": {}
        },
        {
          "name": "stdout",
          "output_type": "stream",
          "text": [
            "Enter variable name /*or type exit to close->>exit\n"
          ]
        }
      ],
      "source": [
        "#Question 4.1\n",
        "\n",
        "#Import the required libraries\n",
        "import pandas as pd\n",
        "import matplotlib.pyplot as plt\n",
        "\n",
        "#Use conditional statements to create an infinite loop, check if the variable names are valid before plotting a histogram\n",
        "while True:\n",
        "    variable_name = input('Enter variable name /*or type exit to close->>')\n",
        "    if variable_name == 'exit':\n",
        "        break\n",
        "    elif variable_name not in mcdatax.columns:\n",
        "        print('Variable name Not Found. Try again.')\n",
        "        continue\n",
        "    else:\n",
        "        plt.hist(mcdatax[variable_name])\n",
        "        plt.title(f\"{variable_name} Histogram\")\n",
        "        plt.xlabel(variable_name)\n",
        "        plt.ylabel(\"Frequency\")\n",
        "        plt.show()"
      ]
    },
    {
      "cell_type": "code",
      "execution_count": null,
      "metadata": {
        "colab": {
          "base_uri": "https://localhost:8080/",
          "height": 524
        },
        "id": "bvaw5Xnot34G",
        "outputId": "816010e0-4824-470e-de79-760baaf6c4a5"
      },
      "outputs": [
        {
          "name": "stdout",
          "output_type": "stream",
          "text": [
            "Enter 1st variable name /*or type exit to close->>EDUCATION\n",
            "Enter 2nd variable name /*or type exit to close->>OCCUPATION\n"
          ]
        },
        {
          "output_type": "display_data",
          "data": {
            "text/plain": [
              "<Figure size 640x480 with 1 Axes>"
            ],
            "image/png": "[encoded data removed]"
          },
          "metadata": {}
        },
        {
          "name": "stdout",
          "output_type": "stream",
          "text": [
            "Enter 1st variable name /*or type exit to close->>exit\n"
          ]
        }
      ],
      "source": [
        "#Question 4.2\n",
        "\n",
        "#Use conditional statements to create an infinite loop, check if the variable name is valid before plotting a histogram\n",
        "while True:\n",
        "    variable1 = input('Enter 1st variable name /*or type exit to close->>')\n",
        "    if variable1 == 'exit':\n",
        "        break\n",
        "    elif variable1 not in mcdatax.columns:\n",
        "        print('Variable name Not Found. Try again.')\n",
        "        continue\n",
        "    else:\n",
        "        variable2 = input('Enter 2nd variable name /*or type exit to close->>')\n",
        "        if variable2 == 'exit':\n",
        "          break\n",
        "        elif variable2 not in mcdatax.columns:\n",
        "            print('Variable name Not Found. Try again.')\n",
        "            continue\n",
        "        else:\n",
        "            plt.scatter(mcdatax[variable1], mcdatax[variable2])\n",
        "            plt.title(variable1 + ' vs ' + variable2)\n",
        "            plt.xlabel(variable1)\n",
        "            plt.ylabel(variable2)\n",
        "            plt.show()"
      ]
    },
    {
      "cell_type": "code",
      "execution_count": null,
      "metadata": {
        "colab": {
          "base_uri": "https://localhost:8080/",
          "height": 489
        },
        "id": "8U0Pjb-g5uJc",
        "outputId": "884ebcbe-c905-4e9c-e020-c409240e8b84"
      },
      "outputs": [
        {
          "output_type": "stream",
          "name": "stdout",
          "text": [
            "Logistic Regression Accuracy: 0.7922535211267606\n"
          ]
        },
        {
          "output_type": "display_data",
          "data": {
            "text/plain": [
              "<Figure size 640x480 with 2 Axes>"
            ],
            "image/png": "[encoded data removed]"
          },
          "metadata": {}
        }
      ],
      "source": [
        "#Question 5\n",
        "\n",
        "#Import required libraries\n",
        "from sklearn.linear_model import LogisticRegression\n",
        "from sklearn.metrics import accuracy_score\n",
        "import seaborn as sns\n",
        "import matplotlib.pyplot as plt\n",
        "from sklearn.metrics import confusion_matrix\n",
        "\n",
        "#Split the data into training and testing sets for the models\n",
        "X = mcdatax.drop('AFFINITY_CARD', axis=1)\n",
        "y = mcdatax['AFFINITY_CARD']\n",
        "X_train, X_test, y_train, y_test = train_test_split(X, y, test_size=0.2, random_state=42)\n",
        "\n",
        "\n",
        "#Question 5.1 - Logistic Regression:\n",
        "\n",
        "#Train the Logistic Regression model\n",
        "lr = LogisticRegression(max_iter=1000)\n",
        "lr.fit(X_train, y_train)\n",
        "\n",
        "#Make predictions of the target variable using the Logistic Regression model\n",
        "y_pred = lr.predict(X_test)\n",
        "\n",
        "#Evaluate the accuracy of the Logistic Regression model\n",
        "acc = accuracy_score(y_test, y_pred)\n",
        "print(\"Logistic Regression Accuracy:\", acc)\n",
        "\n",
        "\n",
        "#Compute confusion matrix\n",
        "cnf_matrix = confusion_matrix(y_test, y_pred)\n",
        "\n",
        "# Plot confusion matrix\n",
        "sns.heatmap(cnf_matrix, cmap=\"Purples\", annot=True, fmt='g')\n",
        "plt.xlabel('Predicted Labels')\n",
        "plt.ylabel('True Labels')\n",
        "plt.title('Confusion Matrix')\n",
        "plt.show()\n"
      ]
    },
    {
      "cell_type": "markdown",
      "metadata": {
        "id": "B88CG5Fyp_nG"
      },
      "source": [
        "max_iter=1000 * 'The error message indicates that the solver used by the logistic regression model failed to converge, which means that it reached the maximum number of iterations without finding the optimal solution. To address this issue, I had to increase the maximum number of iterations by setting the max_iter parameter to a higher value (1000)\n"
      ]
    },
    {
      "cell_type": "code",
      "execution_count": null,
      "metadata": {
        "colab": {
          "base_uri": "https://localhost:8080/",
          "height": 489
        },
        "id": "-FZtK9UkhoHT",
        "outputId": "5aa214f0-a72e-4729-deff-c122d4fa7495"
      },
      "outputs": [
        {
          "output_type": "stream",
          "name": "stdout",
          "text": [
            "Naive Bayes Accuracy: 0.7676056338028169\n"
          ]
        },
        {
          "output_type": "display_data",
          "data": {
            "text/plain": [
              "<Figure size 640x480 with 1 Axes>"
            ],
            "image/png": "[encoded data removed]"
          },
          "metadata": {}
        }
      ],
      "source": [
        "#QUESTION 5.2 - Naive Bayes:\n",
        "\n",
        "#Import the required library\n",
        "from sklearn.naive_bayes import GaussianNB\n",
        "\n",
        "#Train the Naive Bayes model\n",
        "nb = GaussianNB()\n",
        "nb.fit(X_train, y_train)\n",
        "\n",
        "#Make predictions of the target variable using the Naive Bayes model\n",
        "y_pred = nb.predict(X_test)\n",
        "\n",
        "#Evaluate the Naive Bayes model\n",
        "acc = accuracy_score(y_test, y_pred)\n",
        "print(\"Naive Bayes Accuracy:\", acc)\n",
        "\n",
        "# Create and plot the ROC curve\n",
        "fpr, tpr, thresholds = roc_curve(y_test, lr.predict_proba(X_test)[:,1])\n",
        "auc_score = roc_auc_score(y_test, y_pred)\n",
        "plt.plot(fpr, tpr, label=f'AUC = {auc_score:.2f}')\n",
        "plt.plot([0, 1], [0, 1], linestyle='--')\n",
        "plt.xlabel('False Positive Rate')\n",
        "plt.ylabel('True Positive Rate')\n",
        "plt.title('Receiver Operating Characteristic (ROC) Curve')\n",
        "plt.legend()\n",
        "plt.show()\n"
      ]
    }
  ],
  "metadata": {
    "colab": {
      "provenance": []
    },
    "kernelspec": {
      "display_name": "Python 3",
      "name": "python3"
    },
    "language_info": {
      "name": "python"
    }
  },
  "nbformat": 4,
  "nbformat_minor": 0
}